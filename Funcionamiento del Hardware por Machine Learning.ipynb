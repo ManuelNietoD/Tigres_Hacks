{
  "cells": [
    {
      "cell_type": "markdown",
      "metadata": {
        "id": "k5QNy59099vN"
      },
      "source": [
        "#Consumo de población de agua en el estado de Nuevo León"
      ]
    },
    {
      "cell_type": "markdown",
      "metadata": {
        "id": "A2GrABiqrYC7"
      },
      "source": [
        "##Uso de agua en habitaciones multifamiliar\n",
        "  "
      ]
    },
    {
      "cell_type": "markdown",
      "metadata": {
        "id": "4viVepmZKq2a"
      },
      "source": [
        "Bajo la hipótesis `se considera que un consumo razonable y eficiente de agua para un hogar en Nuevo León es de aproximadamente 125 litros por persona al día`. Esto puede variar según factores y variables externas, como por ejemplo, el hecho que bajo simulación Monte Carlo, expropiaremos como funcionaria dicho proyecto."
      ]
    },
    {
      "cell_type": "markdown",
      "metadata": {
        "id": "sYGCvduIodWA"
      },
      "source": [
        "\n",
        "\n",
        "```\n",
        "BIBLIOTECAS ESTADISTICAS\n",
        "```\n",
        "\n"
      ]
    },
    {
      "cell_type": "code",
      "execution_count": null,
      "metadata": {
        "id": "tj6zgNFloc__"
      },
      "outputs": [],
      "source": [
        "import pandas as pd\n",
        "import numpy as np\n",
        "import seaborn as sns\n",
        "import random"
      ]
    },
    {
      "cell_type": "markdown",
      "metadata": {
        "id": "Ci4fkyiWoz34"
      },
      "source": [
        "\n",
        "\n",
        "```\n",
        "SUPUESTO\n",
        "```\n",
        "\n"
      ]
    },
    {
      "cell_type": "markdown",
      "metadata": {
        "id": "NqKOpFQio3JJ"
      },
      "source": [
        "Bajo San Padreo Garza García teniendo un gasto diario `máximo de 650 litros de agua`, mientras el promedio normal del área metropolitana por habitante es de `156 litros`, lo cuál se espera que sea una métrica ideal para aterrizar nuestro proyecto. Esta hipótesis son consideradas en casa habitación multifamiliar.\n",
        "\n",
        "Es importante tener en cuenta que:\n",
        "  * Existen factores que se distribuyen uniformemente en la población (distribución uniforme):\n",
        "    * El tamaño de la familia\n",
        "    * El número de baños\n",
        "    * La presencia de jardín\n",
        "  * Mientras que el uso de agua en la zona metropolitana, pueden seguir una distribución Normal:\n",
        "    * Tenemos la media de uso, y el valor máximo del uso del agua."
      ]
    },
    {
      "cell_type": "code",
      "execution_count": null,
      "metadata": {
        "id": "gC4t3BLY98pK"
      },
      "outputs": [],
      "source": [
        "#Generamos valores aleatorios bajo una distribución uniforme\n",
        "def generar_valor_uniforme(min_value, max_value):\n",
        "  return random.uniform(min_value, max_value)\n",
        "\n",
        "def generar_valor_triangular(media, valor_maximo):\n",
        "  c = random.uniform(media, valor_maximo)\n",
        "  valor_generado = random.triangular(media, valor_maximo, c)\n",
        "  #Como el consumo de Agua no puede ser negativo, entra a modificación\n",
        "  while valor_generado <= 0:\n",
        "    c = random.uniform(media, valor_maximo)\n",
        "    valor_generado = random.triangular(media, valor_maximo, c)\n",
        "  return valor_generado\n",
        "\n",
        "media = 156 #Media del uso delagua\n",
        "valor_maximo = 650 #Valor Máximo que se usa en Nuevo León"
      ]
    },
    {
      "cell_type": "code",
      "execution_count": null,
      "metadata": {
        "id": "ysrIbinyvJJz"
      },
      "outputs": [],
      "source": [
        "#Generar datos adicionales bajo una distribución asociada a la real\n",
        "def generar_datos_uniformes(num_datos):\n",
        "  nuevos_datos = []\n",
        "  for _ in range(num_datos):\n",
        "    valor_generado = generar_valor_triangular(media, valor_maximo)  #Generar valor aleatorio bajo distribución triangular\n",
        "    nuevo_registro = [\n",
        "        int(generar_valor_uniforme(1, 6)), #Número de Habitantes\n",
        "        int(generar_valor_uniforme(1, 4)), #Número de Baños\n",
        "        int(generar_valor_uniforme(0,1)), #Uso de Jardín (0=No, 1=Sí)\n",
        "        int(valor_generado) #Consumo de Agua Diario (Litros)\n",
        "    ]\n",
        "    nuevos_datos.append(nuevo_registro)\n",
        "  return nuevos_datos"
      ]
    },
    {
      "cell_type": "markdown",
      "metadata": {
        "id": "L8BbHcP6whFv"
      },
      "source": [
        "Hay varias razones por las cuales se pueden buscar más de mil simulaciones en diferentes contextos:\n",
        "1. **Validación estadística:** Al realizar múltiples simulaciones, se puede obtener una muestra estadística más robusta para analizar los resultados. Cuantas más simulaciones se realicen, mayor será la confianza en los datos obtenidos y en las conclusiones que se puedan extraer.\n",
        "2. **Análisis de escenarios:** Las simulaciones se utilizan a menudo para explorar diferentes escenarios y evaluar los posibles resultados. Al realizar más de mil simulaciones, se pueden tener en cuenta una amplia gama de condiciones y variables, lo que permite obtener una visión más completa de las posibles situaciones y sus implicaciones.\n",
        "3. **Sensibilidad de parámetros:** En algunas simulaciones, existen múltiples parámetros que pueden afectar los resultados. Al realizar una gran cantidad de simulaciones y variar sistemáticamente los parámetros, se puede analizar la sensibilidad de cada uno de ellos y comprender mejor cómo influyen en los resultados.\n",
        "4. **Optimización:** En ciertos casos, las simulaciones se utilizan para encontrar la mejor solución o configuración óptima dentro de un conjunto de variables y restricciones. Al realizar múltiples simulaciones, se pueden explorar diferentes combinaciones y determinar cuál es la más adecuada según los criterios definidos.\n",
        "\n",
        "*En resumen, buscar más de mil simulaciones puede proporcionar un análisis más exhaustivo, una mayor confianza en los resultados, una mejor comprensión de la sensibilidad de los parámetros, una optimización más precisa y una evaluación más completa de la incertidumbre y el riesgo.*"
      ]
    },
    {
      "cell_type": "markdown",
      "metadata": {
        "id": "CAkyjucc-BRA"
      },
      "source": [
        "\n",
        "\n",
        "```\n",
        "Población de Simulación de Datos de 1,000,000 de personas.\n",
        "```\n",
        "\n"
      ]
    },
    {
      "cell_type": "code",
      "execution_count": null,
      "metadata": {
        "id": "1uQWAmlpqwRY"
      },
      "outputs": [],
      "source": [
        "#Generar 1_000_000 nuevos registros bajo una distribución uniforme\n",
        "nuevos_registros = generar_datos_uniformes(100_000)"
      ]
    },
    {
      "cell_type": "code",
      "execution_count": null,
      "metadata": {
        "id": "SZ_FGQ7vwE0g"
      },
      "outputs": [],
      "source": [
        "Agua = pd.DataFrame(nuevos_registros, columns=['Número de Habitantes', 'Número de Baños',\n",
        "                                             'Uso de Jardín (Sí/No)', 'Consumo de Agua Diario (Litros)'])"
      ]
    },
    {
      "cell_type": "code",
      "execution_count": null,
      "metadata": {
        "colab": {
          "base_uri": "https://localhost:8080/",
          "height": 206
        },
        "id": "9LdYK8-7xNAm",
        "outputId": "c95f3f87-cb8c-48bf-d7ce-c6d7330bc2fd"
      },
      "outputs": [
        {
          "output_type": "execute_result",
          "data": {
            "text/plain": [
              "   Número de Habitantes  Número de Baños  Uso de Jardín (Sí/No)  \\\n",
              "0                     1                3                      0   \n",
              "1                     4                1                      0   \n",
              "2                     3                2                      0   \n",
              "3                     5                1                      0   \n",
              "4                     5                1                      0   \n",
              "\n",
              "   Consumo de Agua Diario (Litros)  \n",
              "0                              276  \n",
              "1                              320  \n",
              "2                              260  \n",
              "3                              398  \n",
              "4                              566  "
            ],
            "text/html": [
              "\n",
              "  <div id=\"df-84694043-c294-494e-a9c5-1798558a2d86\">\n",
              "    <div class=\"colab-df-container\">\n",
              "      <div>\n",
              "<style scoped>\n",
              "    .dataframe tbody tr th:only-of-type {\n",
              "        vertical-align: middle;\n",
              "    }\n",
              "\n",
              "    .dataframe tbody tr th {\n",
              "        vertical-align: top;\n",
              "    }\n",
              "\n",
              "    .dataframe thead th {\n",
              "        text-align: right;\n",
              "    }\n",
              "</style>\n",
              "<table border=\"1\" class=\"dataframe\">\n",
              "  <thead>\n",
              "    <tr style=\"text-align: right;\">\n",
              "      <th></th>\n",
              "      <th>Número de Habitantes</th>\n",
              "      <th>Número de Baños</th>\n",
              "      <th>Uso de Jardín (Sí/No)</th>\n",
              "      <th>Consumo de Agua Diario (Litros)</th>\n",
              "    </tr>\n",
              "  </thead>\n",
              "  <tbody>\n",
              "    <tr>\n",
              "      <th>0</th>\n",
              "      <td>1</td>\n",
              "      <td>3</td>\n",
              "      <td>0</td>\n",
              "      <td>276</td>\n",
              "    </tr>\n",
              "    <tr>\n",
              "      <th>1</th>\n",
              "      <td>4</td>\n",
              "      <td>1</td>\n",
              "      <td>0</td>\n",
              "      <td>320</td>\n",
              "    </tr>\n",
              "    <tr>\n",
              "      <th>2</th>\n",
              "      <td>3</td>\n",
              "      <td>2</td>\n",
              "      <td>0</td>\n",
              "      <td>260</td>\n",
              "    </tr>\n",
              "    <tr>\n",
              "      <th>3</th>\n",
              "      <td>5</td>\n",
              "      <td>1</td>\n",
              "      <td>0</td>\n",
              "      <td>398</td>\n",
              "    </tr>\n",
              "    <tr>\n",
              "      <th>4</th>\n",
              "      <td>5</td>\n",
              "      <td>1</td>\n",
              "      <td>0</td>\n",
              "      <td>566</td>\n",
              "    </tr>\n",
              "  </tbody>\n",
              "</table>\n",
              "</div>\n",
              "      <button class=\"colab-df-convert\" onclick=\"convertToInteractive('df-84694043-c294-494e-a9c5-1798558a2d86')\"\n",
              "              title=\"Convert this dataframe to an interactive table.\"\n",
              "              style=\"display:none;\">\n",
              "        \n",
              "  <svg xmlns=\"http://www.w3.org/2000/svg\" height=\"24px\"viewBox=\"0 0 24 24\"\n",
              "       width=\"24px\">\n",
              "    <path d=\"M0 0h24v24H0V0z\" fill=\"none\"/>\n",
              "    <path d=\"M18.56 5.44l.94 2.06.94-2.06 2.06-.94-2.06-.94-.94-2.06-.94 2.06-2.06.94zm-11 1L8.5 8.5l.94-2.06 2.06-.94-2.06-.94L8.5 2.5l-.94 2.06-2.06.94zm10 10l.94 2.06.94-2.06 2.06-.94-2.06-.94-.94-2.06-.94 2.06-2.06.94z\"/><path d=\"M17.41 7.96l-1.37-1.37c-.4-.4-.92-.59-1.43-.59-.52 0-1.04.2-1.43.59L10.3 9.45l-7.72 7.72c-.78.78-.78 2.05 0 2.83L4 21.41c.39.39.9.59 1.41.59.51 0 1.02-.2 1.41-.59l7.78-7.78 2.81-2.81c.8-.78.8-2.07 0-2.86zM5.41 20L4 18.59l7.72-7.72 1.47 1.35L5.41 20z\"/>\n",
              "  </svg>\n",
              "      </button>\n",
              "      \n",
              "  <style>\n",
              "    .colab-df-container {\n",
              "      display:flex;\n",
              "      flex-wrap:wrap;\n",
              "      gap: 12px;\n",
              "    }\n",
              "\n",
              "    .colab-df-convert {\n",
              "      background-color: #E8F0FE;\n",
              "      border: none;\n",
              "      border-radius: 50%;\n",
              "      cursor: pointer;\n",
              "      display: none;\n",
              "      fill: #1967D2;\n",
              "      height: 32px;\n",
              "      padding: 0 0 0 0;\n",
              "      width: 32px;\n",
              "    }\n",
              "\n",
              "    .colab-df-convert:hover {\n",
              "      background-color: #E2EBFA;\n",
              "      box-shadow: 0px 1px 2px rgba(60, 64, 67, 0.3), 0px 1px 3px 1px rgba(60, 64, 67, 0.15);\n",
              "      fill: #174EA6;\n",
              "    }\n",
              "\n",
              "    [theme=dark] .colab-df-convert {\n",
              "      background-color: #3B4455;\n",
              "      fill: #D2E3FC;\n",
              "    }\n",
              "\n",
              "    [theme=dark] .colab-df-convert:hover {\n",
              "      background-color: #434B5C;\n",
              "      box-shadow: 0px 1px 3px 1px rgba(0, 0, 0, 0.15);\n",
              "      filter: drop-shadow(0px 1px 2px rgba(0, 0, 0, 0.3));\n",
              "      fill: #FFFFFF;\n",
              "    }\n",
              "  </style>\n",
              "\n",
              "      <script>\n",
              "        const buttonEl =\n",
              "          document.querySelector('#df-84694043-c294-494e-a9c5-1798558a2d86 button.colab-df-convert');\n",
              "        buttonEl.style.display =\n",
              "          google.colab.kernel.accessAllowed ? 'block' : 'none';\n",
              "\n",
              "        async function convertToInteractive(key) {\n",
              "          const element = document.querySelector('#df-84694043-c294-494e-a9c5-1798558a2d86');\n",
              "          const dataTable =\n",
              "            await google.colab.kernel.invokeFunction('convertToInteractive',\n",
              "                                                     [key], {});\n",
              "          if (!dataTable) return;\n",
              "\n",
              "          const docLinkHtml = 'Like what you see? Visit the ' +\n",
              "            '<a target=\"_blank\" href=https://colab.research.google.com/notebooks/data_table.ipynb>data table notebook</a>'\n",
              "            + ' to learn more about interactive tables.';\n",
              "          element.innerHTML = '';\n",
              "          dataTable['output_type'] = 'display_data';\n",
              "          await google.colab.output.renderOutput(dataTable, element);\n",
              "          const docLink = document.createElement('div');\n",
              "          docLink.innerHTML = docLinkHtml;\n",
              "          element.appendChild(docLink);\n",
              "        }\n",
              "      </script>\n",
              "    </div>\n",
              "  </div>\n",
              "  "
            ]
          },
          "metadata": {},
          "execution_count": 7
        }
      ],
      "source": [
        "#Visualización de los primeros datos\n",
        "Agua.head()"
      ]
    },
    {
      "cell_type": "markdown",
      "metadata": {
        "id": "TOdtveA4xbHd"
      },
      "source": [
        "*Podemos observar que los datos, mantienen una similitud a datos reales.*\n"
      ]
    },
    {
      "cell_type": "markdown",
      "metadata": {
        "id": "zzI-iZSXzBMI"
      },
      "source": [
        "##Regresión Lineal de Consumo"
      ]
    },
    {
      "cell_type": "markdown",
      "source": [
        "Con las variables 'Número de Habitantes', 'Número de Baños' y 'Uso de Jardín (Sí/No)', y el objetivo de predecir el 'Consumo de Agua Diario (Litros)', puedes utilizar técnicas de machine learning para construir un modelo que pueda realizar predicciones basadas en esos datos. Aquí hay algunas cosas que puedes hacer con machine learning en este contexto:\n",
        "\n",
        "Regresión: Puedes utilizar algoritmos de regresión, como la regresión lineal, regresión de bosque aleatorio o regresión de vectores de soporte (SVR), para predecir el consumo de agua diario en función de las variables predictoras. Estos modelos intentarán encontrar una relación matemática entre las variables independientes y la variable dependiente para hacer predicciones."
      ],
      "metadata": {
        "id": "brqoZ_1RVpN1"
      }
    },
    {
      "cell_type": "markdown",
      "metadata": {
        "id": "RuL671xNzXzH"
      },
      "source": [
        "\n",
        "\n",
        "```\n",
        "BIBLIOTECA PARA REGRESIÓN\n",
        "```\n",
        "\n"
      ]
    },
    {
      "cell_type": "markdown",
      "metadata": {
        "id": "0AQA9Xi2zdQF"
      },
      "source": [
        "Se usa el supuesto de tener un regresión \n",
        "lineal de consumo, teniendo datos despues de 30 días que recopila el dispositivo y los sube a la nube."
      ]
    },
    {
      "cell_type": "code",
      "execution_count": null,
      "metadata": {
        "id": "tfvun0pCxX1E"
      },
      "outputs": [],
      "source": [
        "from sklearn.model_selection import train_test_split\n",
        "from sklearn.linear_model import LogisticRegression\n",
        "import statsmodels.api as sm\n",
        "from sklearn.metrics import accuracy_score"
      ]
    },
    {
      "cell_type": "markdown",
      "metadata": {
        "id": "rTCvkqD0_p37"
      },
      "source": [
        "*Usando un 25% del tamaño de la muestra, como variables de entrenamiento*"
      ]
    },
    {
      "cell_type": "code",
      "source": [
        "#Dividir los datos en características(X) y variable objetivo (y)\n",
        "#Variables dependientes de consumo\n",
        "X = Agua.drop('Consumo de Agua Diario (Litros)', axis=1)\n",
        "#Variable predictoria\n",
        "y = Agua['Consumo de Agua Diario (Litros)']\n",
        "\n",
        "#Dividir los datos en conjuntos de entrenamiento y prueba\n",
        "X_train, X_test, y_train, y_test = train_test_split(X, y, test_size=0.25, random_state=42)"
      ],
      "metadata": {
        "id": "VB1MRAZVQbEy"
      },
      "execution_count": null,
      "outputs": []
    },
    {
      "cell_type": "code",
      "execution_count": null,
      "metadata": {
        "colab": {
          "base_uri": "https://localhost:8080/"
        },
        "id": "gsmLn60zz0qT",
        "outputId": "ecd9dd86-a5fc-463d-d977-1f46cf9c7179"
      },
      "outputs": [
        {
          "output_type": "stream",
          "name": "stderr",
          "text": [
            "/usr/local/lib/python3.10/dist-packages/sklearn/linear_model/_logistic.py:458: ConvergenceWarning: lbfgs failed to converge (status=1):\n",
            "STOP: TOTAL NO. of ITERATIONS REACHED LIMIT.\n",
            "\n",
            "Increase the number of iterations (max_iter) or scale the data as shown in:\n",
            "    https://scikit-learn.org/stable/modules/preprocessing.html\n",
            "Please also refer to the documentation for alternative solver options:\n",
            "    https://scikit-learn.org/stable/modules/linear_model.html#logistic-regression\n",
            "  n_iter_i = _check_optimize_result(\n"
          ]
        }
      ],
      "source": [
        "#Crear y entrenar el modelo de regresión logística\n",
        "model = LogisticRegression()\n",
        "model.fit(X_train, y_train)\n",
        "\n",
        "#Predecir los valores para los datos de prueba\n",
        "y_pred = model.predict(X_test)"
      ]
    },
    {
      "cell_type": "code",
      "source": [
        "#Calcular la precisión del modelo\n",
        "accuracy = accuracy_score(y_test, y_pred)\n",
        "print(\"Precisión del modelo:\", accuracy)"
      ],
      "metadata": {
        "colab": {
          "base_uri": "https://localhost:8080/"
        },
        "id": "HWO0xmf5D5R9",
        "outputId": "6bae89dd-68a2-4cda-b986-0683e0ec8e6d"
      },
      "execution_count": null,
      "outputs": [
        {
          "output_type": "stream",
          "name": "stdout",
          "text": [
            "Precisión del modelo: 0.00248\n"
          ]
        }
      ]
    },
    {
      "cell_type": "markdown",
      "source": [
        "\n",
        "\n",
        "```\n",
        "MÉTODO MINÍMOS CUADRADOS\n",
        "```\n",
        "\n"
      ],
      "metadata": {
        "id": "F1Dxtb-nTjo3"
      }
    },
    {
      "cell_type": "code",
      "source": [
        "#Definimos la variable dependientes y explicatorias\n",
        "y=Agua['Consumo de Agua Diario (Litros)']\n",
        "x1=Agua[['Número de Habitantes', 'Número de Baños','Uso de Jardín (Sí/No)']]"
      ],
      "metadata": {
        "id": "GbkOO3lzT4bC"
      },
      "execution_count": null,
      "outputs": []
    },
    {
      "cell_type": "code",
      "source": [
        "#Añadir una constante a X para estimar el intercepto\n",
        "X = sm.add_constant(x1)\n",
        "\n",
        "#Crear el modelo de regresión OLS\n",
        "model = sm.OLS(y, x1)\n",
        "\n",
        "# Ajustar (entrenar) el modelo a los datos\n",
        "results = model.fit()"
      ],
      "metadata": {
        "id": "4Wqf0HfKUjOR"
      },
      "execution_count": null,
      "outputs": []
    },
    {
      "cell_type": "code",
      "source": [
        "results.summary()"
      ],
      "metadata": {
        "colab": {
          "base_uri": "https://localhost:8080/",
          "height": 580
        },
        "id": "OJExaO7gUzxy",
        "outputId": "e6dc2f3c-2f2c-4b81-977f-e753c26e44e5"
      },
      "execution_count": null,
      "outputs": [
        {
          "output_type": "stream",
          "name": "stderr",
          "text": [
            "/usr/local/lib/python3.10/dist-packages/statsmodels/regression/linear_model.py:1934: RuntimeWarning: divide by zero encountered in double_scalars\n",
            "  return np.sqrt(eigvals[0]/eigvals[-1])\n"
          ]
        },
        {
          "output_type": "execute_result",
          "data": {
            "text/plain": [
              "<class 'statsmodels.iolib.summary.Summary'>\n",
              "\"\"\"\n",
              "                                       OLS Regression Results                                       \n",
              "====================================================================================================\n",
              "Dep. Variable:     Consumo de Agua Diario (Litros)   R-squared (uncentered):                   0.841\n",
              "Model:                                         OLS   Adj. R-squared (uncentered):              0.841\n",
              "Method:                              Least Squares   F-statistic:                          2.649e+05\n",
              "Date:                             Sun, 28 May 2023   Prob (F-statistic):                        0.00\n",
              "Time:                                     07:47:21   Log-Likelihood:                     -6.5377e+05\n",
              "No. Observations:                           100000   AIC:                                  1.308e+06\n",
              "Df Residuals:                                99998   BIC:                                  1.308e+06\n",
              "Df Model:                                        2                                                  \n",
              "Covariance Type:                         nonrobust                                                  \n",
              "=========================================================================================\n",
              "                            coef    std err          t      P>|t|      [0.025      0.975]\n",
              "-----------------------------------------------------------------------------------------\n",
              "Número de Habitantes     52.5222      0.292    179.635      0.000      51.949      53.095\n",
              "Número de Baños         104.7412      0.450    232.935      0.000     103.860     105.623\n",
              "Uso de Jardín (Sí/No)          0          0        nan        nan           0           0\n",
              "==============================================================================\n",
              "Omnibus:                     1132.320   Durbin-Watson:                   1.905\n",
              "Prob(Omnibus):                  0.000   Jarque-Bera (JB):              700.988\n",
              "Skew:                          -0.001   Prob(JB):                    6.06e-153\n",
              "Kurtosis:                       2.590   Cond. No.                          inf\n",
              "==============================================================================\n",
              "\n",
              "Notes:\n",
              "[1] R² is computed without centering (uncentered) since the model does not contain a constant.\n",
              "[2] Standard Errors assume that the covariance matrix of the errors is correctly specified.\n",
              "[3] The smallest eigenvalue is      0. This might indicate that there are\n",
              "strong multicollinearity problems or that the design matrix is singular.\n",
              "\"\"\""
            ],
            "text/html": [
              "<table class=\"simpletable\">\n",
              "<caption>OLS Regression Results</caption>\n",
              "<tr>\n",
              "  <th>Dep. Variable:</th>    <td>Consumo de Agua Diario (Litros)</td> <th>  R-squared (uncentered):</th>       <td>   0.841</td>  \n",
              "</tr>\n",
              "<tr>\n",
              "  <th>Model:</th>                          <td>OLS</td>               <th>  Adj. R-squared (uncentered):</th>  <td>   0.841</td>  \n",
              "</tr>\n",
              "<tr>\n",
              "  <th>Method:</th>                    <td>Least Squares</td>          <th>  F-statistic:       </th>           <td>2.649e+05</td> \n",
              "</tr>\n",
              "<tr>\n",
              "  <th>Date:</th>                    <td>Sun, 28 May 2023</td>         <th>  Prob (F-statistic):</th>            <td>  0.00</td>   \n",
              "</tr>\n",
              "<tr>\n",
              "  <th>Time:</th>                        <td>07:47:21</td>             <th>  Log-Likelihood:    </th>          <td>-6.5377e+05</td>\n",
              "</tr>\n",
              "<tr>\n",
              "  <th>No. Observations:</th>             <td>100000</td>              <th>  AIC:               </th>           <td>1.308e+06</td> \n",
              "</tr>\n",
              "<tr>\n",
              "  <th>Df Residuals:</th>                 <td> 99998</td>              <th>  BIC:               </th>           <td>1.308e+06</td> \n",
              "</tr>\n",
              "<tr>\n",
              "  <th>Df Model:</th>                     <td>     2</td>              <th>                     </th>               <td> </td>     \n",
              "</tr>\n",
              "<tr>\n",
              "  <th>Covariance Type:</th>             <td>nonrobust</td>            <th>                     </th>               <td> </td>     \n",
              "</tr>\n",
              "</table>\n",
              "<table class=\"simpletable\">\n",
              "<tr>\n",
              "            <td></td>               <th>coef</th>     <th>std err</th>      <th>t</th>      <th>P>|t|</th>  <th>[0.025</th>    <th>0.975]</th>  \n",
              "</tr>\n",
              "<tr>\n",
              "  <th>Número de Habitantes</th>  <td>   52.5222</td> <td>    0.292</td> <td>  179.635</td> <td> 0.000</td> <td>   51.949</td> <td>   53.095</td>\n",
              "</tr>\n",
              "<tr>\n",
              "  <th>Número de Baños</th>       <td>  104.7412</td> <td>    0.450</td> <td>  232.935</td> <td> 0.000</td> <td>  103.860</td> <td>  105.623</td>\n",
              "</tr>\n",
              "<tr>\n",
              "  <th>Uso de Jardín (Sí/No)</th> <td>         0</td> <td>        0</td> <td>      nan</td> <td>   nan</td> <td>        0</td> <td>        0</td>\n",
              "</tr>\n",
              "</table>\n",
              "<table class=\"simpletable\">\n",
              "<tr>\n",
              "  <th>Omnibus:</th>       <td>1132.320</td> <th>  Durbin-Watson:     </th> <td>   1.905</td> \n",
              "</tr>\n",
              "<tr>\n",
              "  <th>Prob(Omnibus):</th>  <td> 0.000</td>  <th>  Jarque-Bera (JB):  </th> <td> 700.988</td> \n",
              "</tr>\n",
              "<tr>\n",
              "  <th>Skew:</th>           <td>-0.001</td>  <th>  Prob(JB):          </th> <td>6.06e-153</td>\n",
              "</tr>\n",
              "<tr>\n",
              "  <th>Kurtosis:</th>       <td> 2.590</td>  <th>  Cond. No.          </th> <td>     inf</td> \n",
              "</tr>\n",
              "</table><br/><br/>Notes:<br/>[1] R² is computed without centering (uncentered) since the model does not contain a constant.<br/>[2] Standard Errors assume that the covariance matrix of the errors is correctly specified.<br/>[3] The smallest eigenvalue is      0. This might indicate that there are<br/>strong multicollinearity problems or that the design matrix is singular."
            ]
          },
          "metadata": {},
          "execution_count": 19
        }
      ]
    },
    {
      "cell_type": "markdown",
      "source": [
        "**RELACIÓN SIGNIFICATIVA ENTRE LAS VARIABLES EXPLICATIVAS Y LA VARIABLE DEPENDIENTE**"
      ],
      "metadata": {
        "id": "n7idnADvV9Ic"
      }
    },
    {
      "cell_type": "code",
      "source": [
        "#Mapa gráfico de la correlación\n",
        "data_plot = sns.heatmap(Agua.corr(),  cmap = \"YlGnBu\" ,  annot = True)"
      ],
      "metadata": {
        "colab": {
          "base_uri": "https://localhost:8080/",
          "height": 647
        },
        "id": "NgAJtNMaDyZC",
        "outputId": "a85a77c6-feb2-4a42-e172-8d7155ef4fbb"
      },
      "execution_count": null,
      "outputs": [
        {
          "output_type": "display_data",
          "data": {
            "text/plain": [
              "<Figure size 640x480 with 2 Axes>"
            ],
            "image/png": "[encoded data removed]"
          },
          "metadata": {}
        }
      ]
    },
    {
      "cell_type": "markdown",
      "source": [
        "##Clasificación de Consumo"
      ],
      "metadata": {
        "id": "239uOyIgWsqc"
      }
    },
    {
      "cell_type": "code",
      "source": [
        "from sklearn.model_selection import train_test_split\n",
        "from sklearn.preprocessing import LabelEncoder\n",
        "from sklearn.ensemble import RandomForestClassifier\n",
        "from sklearn.metrics import accuracy_score"
      ],
      "metadata": {
        "id": "YX3NqHCrXBME"
      },
      "execution_count": null,
      "outputs": []
    },
    {
      "cell_type": "code",
      "source": [
        "#Definimos la variable dependientes y explicatorias\n",
        "Y=Agua['Consumo de Agua Diario (Litros)']\n",
        "X=Agua[['Número de Habitantes', 'Número de Baños','Uso de Jardín (Sí/No)']]"
      ],
      "metadata": {
        "id": "kmpLwB3BWsX5"
      },
      "execution_count": null,
      "outputs": []
    },
    {
      "cell_type": "code",
      "source": [
        "#Convertir variables categóricas en numéricas (si es necesario)\n",
        "le = LabelEncoder()\n",
        "Agua['Uso de Jardín (Sí/No)'] = le.fit_transform(Agua['Uso de Jardín (Sí/No)'])\n",
        "\n",
        "#Dividir los datos en conjuntos de entrenamiento y prueba\n",
        "X_train, X_test, y_train, y_test = train_test_split(Agua.drop('Consumo de Agua Diario (Litros)', axis=1),\n",
        "                                                    Agua['Consumo de Agua Diario (Litros)'],\n",
        "                                                    test_size=0.2, random_state=42)\n",
        "\n",
        "#Crear una instancia del modelo de Bosque Aleatorio\n",
        "modelo = RandomForestClassifier()\n",
        "\n",
        "#Entrenar el modelo con los datos de entrenamiento\n",
        "modelo.fit(X_train, y_train)\n",
        "\n",
        "#Hacer predicciones en el conjunto de prueba\n",
        "y_pred = modelo.predict(X_test)\n",
        "\n",
        "#Calcular la precisión del modelo\n",
        "precision = accuracy_score(y_test, y_pred)\n",
        "print(\"Precisión del modelo:\", precision)"
      ],
      "metadata": {
        "colab": {
          "base_uri": "https://localhost:8080/"
        },
        "id": "tiOKdcQFXHcJ",
        "outputId": "cbb11e1c-195a-4967-ea26-9af0f64be96f"
      },
      "execution_count": null,
      "outputs": [
        {
          "output_type": "stream",
          "name": "stdout",
          "text": [
            "Precisión del modelo: 0.00295\n"
          ]
        }
      ]
    }
  ],
  "metadata": {
    "colab": {
      "provenance": []
    },
    "kernelspec": {
      "display_name": "Python 3",
      "name": "python3"
    },
    "language_info": {
      "name": "python"
    }
  },
  "nbformat": 4,
  "nbformat_minor": 0
}